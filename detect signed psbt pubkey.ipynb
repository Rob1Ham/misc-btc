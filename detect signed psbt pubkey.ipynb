{
 "cells": [
  {
   "cell_type": "code",
   "execution_count": 1,
   "metadata": {},
   "outputs": [],
   "source": [
    "from embit.psbt import PSBT\n",
    "from binascii import a2b_base64, b2a_base64\n",
    "from io import BytesIO\n",
    "from embit import ec\n",
    "\n",
    "from embit import bip32, bip39\n",
    "from embit.psbt import PSBT\n",
    "from embit.descriptor import Descriptor\n",
    "from binascii import hexlify\n",
    "\n",
    "\n",
    "\n",
    "\n"
   ]
  },
  {
   "cell_type": "code",
   "execution_count": 2,
   "metadata": {},
   "outputs": [],
   "source": [
    "def detect_psbt_sig(psbt_str):\n",
    "    \"parase the PSBT for the 'partial_sigs' method\"\n",
    "    psbt = PSBT.from_string(psbt_str)\n",
    "    if len(psbt.inputs[0].partial_sigs) == 0:\n",
    "        raise ValueError(\"No Signatures Detected\")\n",
    "    if len(psbt.inputs[0].partial_sigs) > 1:\n",
    "        raise ValueError(\"More than one Signature Detected. Not Intended Behavior\")\n",
    "    \n",
    "    #WARNING:\n",
    "    #This is assuming provided signed pubkey is honest\n",
    "    #Add validation that the signature belongs to the pubkey\n",
    "    signed_pubkey = list(psbt.inputs[0].partial_sigs.keys())[0]\n",
    "    \n",
    "    return signed_pubkey.to_string()\n",
    "\n",
    "#Grabs Public Key(s) used in transaction\n",
    "#need to update to grab index and branch dynamically\n",
    "def get_pubkeys(descriptor,idx=0,branch=0):\n",
    "    keymap = {}\n",
    "    \n",
    "    xpubs = []\n",
    "    for i in range(len(descriptor.derive(idx=0, branch_index=0).keys)):\n",
    "        pubkeys = []\n",
    "        xpub = descriptor.keys[i].key.to_string()\n",
    "        xpubs.append(xpub)\n",
    "        \n",
    "        pubkey = descriptor.derive(idx, branch_index=branch).keys[i].get_public_key().to_string()\n",
    "        #print(pubkey)\n",
    "        pubkeys.append(pubkey)\n",
    "        keymap[pubkey]=xpub\n",
    "    return keymap\n",
    "\n",
    "def scan_verify(descriptor,signed_pubkey):\n",
    "    for i in range(100):\n",
    "        branch = 0\n",
    "        some_pubkeys = get_pubkeys(descriptor,idx=i,branch=branch)\n",
    "        #print(list(some_pubkeys))\n",
    "        if signed_pubkey in list(get_pubkeys(descriptor,idx=i,branch=0).keys()):\n",
    "            print(f\"Found the match! {signed_pubkey} is in {some_pubkeys}\")\n",
    "        \n",
    "        branch = 1\n",
    "        some_pubkeys = list(get_pubkeys(descriptor,idx=i,branch=branch).keys())\n",
    "        #print(list(some_pubkeys))\n",
    "        if signed_pubkey in list(some_pubkeys):\n",
    "            print(f\"Found the match! {signed_pubkey} is in {some_pubkeys} at index {i} and branch {branch}\")\n",
    "            return i,branch"
   ]
  },
  {
   "cell_type": "code",
   "execution_count": 3,
   "metadata": {},
   "outputs": [
    {
     "name": "stdout",
     "output_type": "stream",
     "text": [
      "Found the match! 03a41ba2ca720548533be5b7046176bc9248e5347274a2c2ceee5a21d66b768d35 is in ['03a41ba2ca720548533be5b7046176bc9248e5347274a2c2ceee5a21d66b768d35', '028f72df751aec4e3de54dbe2f8ec75b534aa0d404bc6565aceb183f492117e507', '02f65f38f3de56805aff7f0d35232f4cedc64f7e766a2f9e9383afbb1db6f5db34'] at index 0 and branch 1\n"
     ]
    },
    {
     "data": {
      "text/plain": [
       "'tpubDE6RguwrqWuvELAd2BVbP4xi9DYTxWYsZ8Pu1KbU4ttbcmhw7i2MM7CZTubYa48Mfc5garWZ6GtiS2oAVFDYhai8bGG7GeagP6RnV7gbHBf'"
      ]
     },
     "execution_count": 3,
     "metadata": {},
     "output_type": "execute_result"
    }
   ],
   "source": [
    "#opens PSBT\n",
    "f = open(\"testnet-onesig.psbt\", \"rb\")\n",
    "string = f.read()\n",
    "\n",
    "#encodes to PSBT format\n",
    "onesig_psbt_byte = b2a_base64(string)\n",
    "\n",
    "\n",
    "#extracts signed pubkey from PSBT\n",
    "signed_pubkey = detect_psbt_sig(onesig_psbt_byte.decode(\"utf-8\"))\n",
    "\n",
    "#testnet descriptor\n",
    "desc = Descriptor.from_string(\"wsh(sortedmulti(2,tpubDE6RguwrqWuvELAd2BVbP4xi9DYTxWYsZ8Pu1KbU4ttbcmhw7i2MM7CZTubYa48Mfc5garWZ6GtiS2oAVFDYhai8bGG7GeagP6RnV7gbHBf/{0,1}/*,tpubDFKHqqaYCjf8Uff3X7YpEsf1uQ2LrWo7bBw5qT87aJqem98ZkrBE1XPJFzvHpgz2ZKCPP6a9agULkymCRtcpKtKurMfJN8BMqRQLYSUZ6N4/{0,1}/*,tpubDFi2WWwmGmwdGNdZ97o9dSFiQunzadfK57Qwbpcx73dEBtUaPSna65kUS92mS8xvWFHv7fUwpj5LibRBNGGYFak7ShretiB5cv5GXUDGzfZ/{0,1}/*))\")\n",
    "\n",
    "#extracts the branch and index the key was signed from\n",
    "i, branch = scan_verify(desc,signed_pubkey)\n",
    "\n",
    "#generates the keymap using the targeted branch and index\n",
    "test_keymap = get_pubkeys(desc,idx=i,branch=branch)\n",
    "\n",
    "#returns the xpub the signature corresponds to.\n",
    "test_keymap[signed_pubkey]"
   ]
  }
 ],
 "metadata": {
  "kernelspec": {
   "display_name": "Python 3",
   "language": "python",
   "name": "python3"
  },
  "language_info": {
   "codemirror_mode": {
    "name": "ipython",
    "version": 3
   },
   "file_extension": ".py",
   "mimetype": "text/x-python",
   "name": "python",
   "nbconvert_exporter": "python",
   "pygments_lexer": "ipython3",
   "version": "3.7.4"
  }
 },
 "nbformat": 4,
 "nbformat_minor": 2
}
